{
  "cells": [
    {
      "cell_type": "markdown",
      "id": "d8ed7651-2c47-4899-abed-1f5daae2639a",
      "metadata": {},
      "source": [
        "# Climate Coding Challenge\n",
        "\n",
        "Climate change is impacting the way people live around the world\n",
        "\n",
        "# Part 1: Overview\n",
        "\n",
        "Higher highs, lower lows, storms, and smoke – we’re all feeling the\n",
        "effects of climate change. In this workflow, you will take a look at\n",
        "trends in temperature over time in Karachi, Pakistan.\n",
        "\n",
        "<link rel=\"stylesheet\" type=\"text/css\" href=\"./assets/styles.css\"><div class=\"callout callout-style-default callout-titled callout-discuss\"><div class=\"callout-header\"><div class=\"callout-icon-container\"><i class=\"callout-icon\"></i></div><div class=\"callout-title-container flex-fill\">Conversation Starter</div></div><div class=\"callout-body-container callout-body\"><p>In a few sentences, how is climate change affecting your home?</p></div></div>\n",
        "\n",
        "# More extreme wildfires! Less frash water..\n",
        "\n",
        "## What the fork?! Who wrote this?\n",
        "\n",
        "Below is a scientific Python workflow. But something’s wrong – The code\n",
        "won’t run! Your task is to follow the instructions below to **clean and\n",
        "debug** the Python code below so that it runs.\n",
        "\n",
        "> **Tip**\n",
        ">\n",
        "> Don’t worry if you can’t solve every bug right away. We’ll get there!\n",
        "> If you are working on one bug for more than about 10 minutes, it’s\n",
        "> time to ask for help.\n",
        "\n",
        "At the end, you’ll **repeat the workflow** for a location and\n",
        "measurement of your choosing.\n",
        "\n",
        "Alright! Let’s clean up this code.\n",
        "\n",
        "# STEP -1: Wrap up\n",
        "\n",
        "Don’t forget to store your variables so you can use them in other\n",
        "notebooks! Replace `var1` and `var2` with the variable you want to save,\n",
        "separated by spaces."
      ]
    },
    {
      "cell_type": "code",
      "execution_count": 2,
      "id": "3420774b",
      "metadata": {},
      "outputs": [],
      "source": [
        "id = 'shortcourse'\n",
        "figshare_id = 55245161\n",
        "location = 'Karachi, Pakistan'\n",
        "station_id = 'PKM00041780'\n",
        "start_date = '1942-10-01'\n",
        "end_date = '2024-09-30'\n",
        "data_type = 'TAVG'"
      ]
    },
    {
      "cell_type": "code",
      "execution_count": 3,
      "id": "cb903f40",
      "metadata": {},
      "outputs": [
        {
          "name": "stdout",
          "output_type": "stream",
          "text": [
            "Stored 'id' (str)\n",
            "Stored 'figshare_id' (int)\n",
            "Stored 'location' (str)\n",
            "Stored 'station_id' (str)\n",
            "Stored 'start_date' (str)\n",
            "Stored 'end_date' (str)\n",
            "Stored 'data_type' (str)\n"
          ]
        }
      ],
      "source": [
        "%store id figshare_id location station_id start_date end_date data_type"
      ]
    },
    {
      "cell_type": "markdown",
      "id": "2359f176-8ed5-4088-a4fb-6c6bc786197a",
      "metadata": {},
      "source": [
        "Finally, be sure to `Restart` and `Run all` to make sure your notebook\n",
        "works all the way through!"
      ]
    }
  ],
  "metadata": {
    "kernelspec": {
      "display_name": "base",
      "language": "python",
      "name": "python3"
    },
    "language_info": {
      "codemirror_mode": {
        "name": "ipython",
        "version": 3
      },
      "file_extension": ".py",
      "mimetype": "text/x-python",
      "name": "python",
      "nbconvert_exporter": "python",
      "pygments_lexer": "ipython3",
      "version": "3.11.6"
    }
  },
  "nbformat": 4,
  "nbformat_minor": 5
}
